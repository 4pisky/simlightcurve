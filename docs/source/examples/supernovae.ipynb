{
 "cells": [
  {
   "cell_type": "markdown",
   "metadata": {},
   "source": [
    "Supernovae\n",
    "============\n",
    "\n",
    "\n",
    "Optical\n",
    "-------\n",
    "\n",
    "Make use of the quadratically-modulated sigmoidal rise / exponential decay, cf\n",
    "Karpenka 2012 and references therein:\n",
    "\n",
    "Class: [simlightcurve.curves.modsigmoidexp.ModSigmoidExp](../reference/curves.rst)"
   ]
  },
  {
   "cell_type": "code",
   "execution_count": null,
   "metadata": {},
   "outputs": [],
   "source": [
    "from __future__ import absolute_import\n",
    "\n",
    "import matplotlib.pyplot as plt\n",
    "import numpy as np\n",
    "import seaborn"
   ]
  },
  {
   "cell_type": "code",
   "execution_count": null,
   "metadata": {},
   "outputs": [],
   "source": [
    "%matplotlib inline\n",
    "seaborn.set_context('poster')\n",
    "seaborn.set_style(\"darkgrid\")"
   ]
  },
  {
   "cell_type": "code",
   "execution_count": null,
   "metadata": {},
   "outputs": [],
   "source": [
    "from simlightcurve.curves import ModSigmoidExp as Hump\n",
    "\n",
    "\n",
    "hr = 60*60\n",
    "decay_tau=1.*24*hr\n",
    "rise_tau=decay_tau*0.3\n",
    "t1_offset = decay_tau\n",
    "sn0 = Hump(a=3, b=0,\n",
    "            t1_minus_t0=t1_offset,\n",
    "            rise_tau=rise_tau, decay_tau = decay_tau,\n",
    "            t0=None\n",
    "            )\n",
    "sn1 = Hump( a=1, b=3e-10,\n",
    "            t1_minus_t0=t1_offset,\n",
    "            rise_tau=rise_tau, decay_tau = decay_tau,\n",
    "            # t0 = 0.7*decay_tau\n",
    "            t0=None\n",
    "            )\n",
    "\n",
    "tsteps = np.arange(-8*rise_tau, 8*decay_tau, 30)"
   ]
  },
  {
   "cell_type": "code",
   "execution_count": null,
   "metadata": {},
   "outputs": [],
   "source": [
    "fig, axes = plt.subplots(1,1)\n",
    "fig.suptitle('SNe optical lightcurves', fontsize=36)\n",
    "ax=axes\n",
    "# ax.axvline(0, ls='--')\n",
    "# ax.axvline(t1_offset, ls='--')\n",
    "ax.set_xlabel('Time')\n",
    "ax.set_ylabel('Flux')\n",
    "ax.plot(tsteps, sn0(tsteps), label='SN0')\n",
    "ax.plot(tsteps, sn1(tsteps), label='SN1')\n",
    "ax.legend()"
   ]
  },
  {
   "cell_type": "markdown",
   "metadata": {},
   "source": [
    "Radio\n",
    "-------\n",
    "\n",
    "Make use of the 'minishell' model, a product of factors including exponential\n",
    "decay and power law, following \n",
    "[VAST memo #3, (Ryder 2010)](http://www.physics.usyd.edu.au/sifa/vast/uploads/Main/vast_memo3.pdf)"
   ]
  },
  {
   "cell_type": "code",
   "execution_count": null,
   "metadata": {},
   "outputs": [],
   "source": [
    "from simlightcurve.curves import Minishell\n",
    "\n",
    "hr=3600.0\n",
    "timespan = 10000.\n",
    "tsteps = np.linspace(-1,timespan,24*hr)\n",
    "\n",
    "afterglow = Minishell(k1=2.5e2, k2=1.38e2, k3=1.47e5,\n",
    "                       beta=-1.5, delta1=-2.56, delta2=-2.69,\n",
    "                       t0=None)\n"
   ]
  },
  {
   "cell_type": "code",
   "execution_count": null,
   "metadata": {},
   "outputs": [],
   "source": [
    "seaborn.set_palette('husl')\n",
    "fig, axes = plt.subplots(1,1)\n",
    "fig.suptitle('SNe radio lightcurve', fontsize=36)\n",
    "lc = afterglow(tsteps)\n",
    "axes.plot(tsteps, lc)\n",
    "axes.set_xlabel('Time')\n",
    "axes.set_ylabel('Flux')\n",
    "axes.set_xscale('log')\n",
    "axes.set_yscale('log')\n",
    "axes.set_ylim(0.001,np.max(lc)+0.2)\n",
    "axes.set_xlim(2,timespan)\n"
   ]
  }
 ],
 "metadata": {
  "language_info": {
   "pygments_lexer": "ipython3"
  }
 },
 "nbformat": 4,
 "nbformat_minor": 2
}
