{
 "cells": [
  {
   "cell_type": "markdown",
   "metadata": {},
   "source": [
    "Powerlaw curves\n",
    "========="
   ]
  },
  {
   "cell_type": "code",
   "execution_count": null,
   "metadata": {},
   "outputs": [],
   "source": [
    "import matplotlib.pyplot as plt\n",
    "import numpy as np\n",
    "import seaborn"
   ]
  },
  {
   "cell_type": "code",
   "execution_count": null,
   "metadata": {},
   "outputs": [],
   "source": [
    "%matplotlib inline\n",
    "seaborn.set_context('poster')\n",
    "seaborn.set_style(\"dark\")"
   ]
  },
  {
   "cell_type": "code",
   "execution_count": null,
   "metadata": {},
   "outputs": [],
   "source": [
    "from simlightcurve import curves\n",
    "\n",
    "\n",
    "\n",
    "hr = 60*60\n",
    "decay_tau=1.*24*hr\n",
    "rise_tau=decay_tau*0.3\n",
    "t_min = 0.1\n",
    "break_one_t_offset = 0.2*decay_tau\n",
    "\n",
    "unbroken_pl = curves.Powerlaw(init_amp=1,\n",
    "                              alpha_one=-0.5,\n",
    "                              t_offset_min=t_min,\n",
    "                              t0=None)\n",
    "\n",
    "offset_pl = curves.Powerlaw(init_amp=1,\n",
    "                            alpha_one=-0.5,\n",
    "                            t_offset_min=t_min+1.0,\n",
    "                            t0=-10\n",
    "                            )\n",
    "\n",
    "broken_pl = curves.SingleBreakPowerlaw(init_amp=.1,\n",
    "                            alpha_one=-0.2,\n",
    "                            break_one_t_offset=break_one_t_offset,\n",
    "                            alpha_two=-0.8,\n",
    "                            t_offset_min=t_min,\n",
    "                            t0=None\n",
    "                            )\n",
    "\n",
    "\n",
    "\n",
    "tsteps = np.linspace(t_min, decay_tau, 1e5, dtype=np.float)"
   ]
  },
  {
   "cell_type": "code",
   "execution_count": null,
   "metadata": {},
   "outputs": [],
   "source": [
    "fig, axes = plt.subplots(2,1)\n",
    "fig.suptitle('Powerlaws', fontsize=36)\n",
    "ax=axes[0]\n",
    "# ax.axvline(0, ls='--')\n",
    "ax.axvline(break_one_t_offset, ls=':')\n",
    "ax.set_xlabel('Time')\n",
    "ax.set_ylabel('Flux')\n",
    "ax.plot(tsteps, unbroken_pl(tsteps), label='Unbroken powerlaw')\n",
    "ax.plot(tsteps, broken_pl(tsteps), label='Broken powerlaw')\n",
    "ax.plot(tsteps, offset_pl(tsteps), label='Offset powerlaw')\n",
    "ax.set_yscale('log')\n",
    "ax.set_xscale('log')\n",
    "# ax.set_ylim(0.001,.1)\n",
    "# ax.set_xlim(t_min, 0.8*decay_tau)\n",
    "ax.legend()\n",
    "\n",
    "ax=axes[1]\n",
    "# ax.axvline(0, ls='--')\n",
    "ax.axvline(break_one_t_offset, ls=':')\n",
    "ax.set_xlabel('Time')\n",
    "ax.set_ylabel('Flux')\n",
    "ax.plot(tsteps, unbroken_pl(tsteps), label='Unbroken powerlaw')\n",
    "ax.plot(tsteps, broken_pl(tsteps), label='Broken powerlaw')\n",
    "ax.plot(tsteps, offset_pl(tsteps), label='Offset powerlaw')\n",
    "# ax.set_yscale('log')\n",
    "# ax.set_xscale('log')\n",
    "ax.set_ylim(0.001,.05)\n",
    "ax.legend()\n",
    "ax.set_xlim(t_min, 0.3*decay_tau)\n",
    "\n",
    "# plt.gcf().tight_layout()"
   ]
  }
 ],
 "metadata": {
  "language_info": {
   "name": "python",
   "pygments_lexer": "ipython3"
  }
 },
 "nbformat": 4,
 "nbformat_minor": 0
}
