{
 "cells": [
  {
   "cell_type": "markdown",
   "metadata": {},
   "source": [
    "Van Der Laan\n",
    "=======\n",
    "From [A Model for Variable Extragalactic Radio Sources](http://adsabs.harvard.edu/abs/1969tsra.conf...49V), (Van Der Laan 1969).\n",
    "\n",
    "See class documentation for more details: [simlightcurve.curves.vanderlaan.VanDerLaan](../reference/curves.rst)"
   ]
  },
  {
   "cell_type": "code",
   "execution_count": null,
   "metadata": {},
   "outputs": [],
   "source": [
    "import matplotlib.pyplot as plt\n",
    "import numpy as np\n",
    "import seaborn"
   ]
  },
  {
   "cell_type": "code",
   "execution_count": null,
   "metadata": {},
   "outputs": [],
   "source": [
    "%matplotlib inline\n",
    "seaborn.set_context('poster')\n",
    "seaborn.set_style(\"darkgrid\")"
   ]
  },
  {
   "cell_type": "code",
   "execution_count": null,
   "metadata": {},
   "outputs": [],
   "source": [
    "from simlightcurve import curves\n",
    "\n",
    "energy_index_1 = 1.\n",
    "energy_index_2 = 2.5\n",
    "energy_index_3 = 5.\n",
    "maximum_flux = 1.\n",
    "maximum_time = 60. * 60.\n",
    "\n",
    "vdl1 = curves.VanDerLaan(amplitude=maximum_flux,\n",
    "                          energy_index=energy_index_1,\n",
    "                          t0=maximum_time\n",
    "                          )\n",
    "\n",
    "vdl2 = curves.VanDerLaan(amplitude=maximum_flux,\n",
    "                          energy_index=energy_index_2,\n",
    "                          t0=maximum_time\n",
    "                          )\n",
    "\n",
    "vdl3 = curves.VanDerLaan(amplitude=maximum_flux,\n",
    "                          energy_index=energy_index_3,\n",
    "                          t0=maximum_time\n",
    "                          )\n",
    "\n",
    "time_steps = np.arange(0., 3. * maximum_time, 1.)"
   ]
  },
  {
   "cell_type": "code",
   "execution_count": null,
   "metadata": {},
   "outputs": [],
   "source": [
    "fig, axes = plt.subplots(1,1)\n",
    "fig.suptitle('van der Laan light curve', fontsize=36)\n",
    "ax=axes\n",
    "ax.set_xlabel('Time')\n",
    "ax.set_ylabel('Flux')\n",
    "for model in (vdl1, vdl2, vdl3):\n",
    "    ax.plot(time_steps, model(time_steps), \n",
    "            label='$\\gamma={}$'.format(model.energy_index.value),\n",
    "#             ls='--',\n",
    "           )\n",
    "plt.legend()"
   ]
  }
 ],
 "metadata": {
  "language_info": {
   "name": "python",
   "pygments_lexer": "ipython3"
  }
 },
 "nbformat": 4,
 "nbformat_minor": 0
}
