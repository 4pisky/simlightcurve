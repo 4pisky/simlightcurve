{
 "cells": [
  {
   "cell_type": "code",
   "execution_count": null,
   "metadata": {},
   "outputs": [],
   "source": [
    "import matplotlib.pyplot as plt\n",
    "import numpy as np\n",
    "import seaborn"
   ]
  },
  {
   "cell_type": "code",
   "execution_count": null,
   "metadata": {},
   "outputs": [],
   "source": [
    "%matplotlib inline\n",
    "seaborn.set_context('poster')\n",
    "seaborn.set_style(\"darkgrid\")"
   ]
  },
  {
   "cell_type": "code",
   "execution_count": null,
   "metadata": {},
   "outputs": [],
   "source": [
    "from simlightcurve import curves\n",
    "\n",
    "energy_index = 2.5\n",
    "energy_index_2 = 1.\n",
    "energy_index_3 = 5.\n",
    "maximum_flux = 1.\n",
    "maximum_time = 60.*60.\n",
    "\n",
    "vdL_1 = curves.vdl(energy_index=energy_index, \n",
    "                maximum_flux=maximum_flux,\n",
    "                maximum_time=maximum_time\n",
    ")\n",
    "\n",
    "vdL_2 = curves.vdl(energy_index=energy_index_2, \n",
    "                maximum_flux=maximum_flux,\n",
    "                maximum_time=maximum_time\n",
    ")\n",
    "\n",
    "vdL_3 = curves.vdl(energy_index=energy_index_3, \n",
    "                maximum_flux=maximum_flux,\n",
    "                maximum_time=maximum_time\n",
    ")\n",
    "\n",
    "time_steps = np.arange(0., 3.*maximum_time, 1.)"
   ]
  },
  {
   "cell_type": "code",
   "execution_count": null,
   "metadata": {},
   "outputs": [],
   "source": [
    "fig, axes = plt.subplots(1,1)\n",
    "fig.suptitle('van der Laan light curve', fontsize=36)\n",
    "ax=axes\n",
    "ax.set_xlabel('Time')\n",
    "ax.set_ylabel('Flux')\n",
    "ax.plot(time_steps, vdL(time_steps), label='p=2.5',ls='--')\n",
    "ax.plot(time_steps, vdL_2(time_steps), label='p=1',ls='-.')\n",
    "ax.plot(time_steps, vdL_3(time_steps), label='p=5',ls='-')\n",
    "plt.legend()"
   ]
  }
 ],
 "metadata": {
  "language_info": {
   "name": "python",
   "pygments_lexer": "ipython3"
  }
 },
 "nbformat": 4,
 "nbformat_minor": 1
}
