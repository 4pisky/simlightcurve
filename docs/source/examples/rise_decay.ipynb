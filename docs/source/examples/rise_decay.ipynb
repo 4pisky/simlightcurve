{
 "cells": [
  {
   "cell_type": "markdown",
   "metadata": {},
   "source": [
    "General rise and decay curves\n",
    "==============================\n",
    "\n",
    "\n",
    "Various curves named after their rise and decay functions.\n"
   ]
  },
  {
   "cell_type": "code",
   "execution_count": null,
   "metadata": {},
   "outputs": [],
   "source": [
    "import matplotlib.pyplot as plt\n",
    "import numpy as np\n",
    "import seaborn"
   ]
  },
  {
   "cell_type": "code",
   "execution_count": null,
   "metadata": {},
   "outputs": [],
   "source": [
    "%matplotlib inline\n",
    "seaborn.set_context('poster')\n",
    "seaborn.set_style(\"darkgrid\")"
   ]
  },
  {
   "cell_type": "code",
   "execution_count": null,
   "metadata": {},
   "outputs": [],
   "source": [
    "from simlightcurve import curves\n",
    "\n",
    "hr = 60*60\n",
    "decay_tau=1.*24*hr\n",
    "rise_tau=decay_tau*0.3\n",
    "t1_offset = decay_tau\n",
    "\n",
    "fred = curves.LinearExp(\n",
    "    amplitude=1.0,\n",
    "    rise_time=rise_tau*1.5,\n",
    "    decay_tau=decay_tau,\n",
    "    t0=None\n",
    ")\n",
    "\n",
    "gred = curves.GaussExp(\n",
    "            amplitude=1.0,\n",
    "            rise_tau=rise_tau,\n",
    "            decay_tau=decay_tau,\n",
    "            t0=None\n",
    ")\n",
    "\n",
    "grpld = curves.GaussPowerlaw(\n",
    "    amplitude = 1.0,\n",
    "    rise_tau=rise_tau,\n",
    "    decay_alpha=-1.5,\n",
    "    decay_offset=decay_tau,\n",
    "    t0=None\n",
    ")\n",
    "\n",
    "tsteps = np.arange(-rise_tau*3, decay_tau*5, 30)"
   ]
  },
  {
   "cell_type": "code",
   "execution_count": null,
   "metadata": {},
   "outputs": [],
   "source": [
    "fig, axes = plt.subplots(1,1)\n",
    "fig.suptitle('Various rise and decay models', fontsize=36)\n",
    "ax=axes\n",
    "# ax.axvline(0, ls='--')\n",
    "# ax.axvline(t1_offset, ls='--')\n",
    "ax.set_xlabel('Time')\n",
    "ax.set_ylabel('Flux')\n",
    "ax.plot(tsteps, fred(tsteps), label='FRED', ls='--')\n",
    "ax.plot(tsteps, gred(tsteps), label='GRED', ls='--')\n",
    "ax.plot(tsteps, grpld(tsteps), label='GRPLD')\n",
    "# ax.set_xscale('log')\n",
    "# ax.set_yscale('log')\n",
    "ax.set_ylim(1e-5,1.001)\n",
    "ax.legend()\n"
   ]
  },
  {
   "cell_type": "code",
   "execution_count": null,
   "metadata": {},
   "outputs": [],
   "source": []
  }
 ],
 "metadata": {
  "language_info": {
   "pygments_lexer": "ipython3"
  }
 },
 "nbformat": 4,
 "nbformat_minor": 2
}
